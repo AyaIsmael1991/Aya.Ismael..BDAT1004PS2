{
 "cells": [
  {
   "cell_type": "code",
   "execution_count": 1,
   "id": "12d855eb",
   "metadata": {},
   "outputs": [
    {
     "ename": "IndentationError",
     "evalue": "expected an indented block (3265443425.py, line 3)",
     "output_type": "error",
     "traceback": [
      "\u001b[1;36m  File \u001b[1;32m\"C:\\Users\\basim\\AppData\\Local\\Temp\\ipykernel_124\\3265443425.py\"\u001b[1;36m, line \u001b[1;32m3\u001b[0m\n\u001b[1;33m    collatz(10)\u001b[0m\n\u001b[1;37m    ^\u001b[0m\n\u001b[1;31mIndentationError\u001b[0m\u001b[1;31m:\u001b[0m expected an indented block\n"
     ]
    }
   ],
   "source": [
    "def main():\n",
    "\n",
    "collatz(10)\n",
    "\n",
    "\n",
    "\n",
    "def collatz(x):\n",
    "\n",
    "if x == 1:\n",
    "\n",
    "print x\n",
    "\n",
    "\n",
    "\n",
    "elif x % 2 == 0:\n",
    "\n",
    "print x\n",
    "\n",
    "x = x/2\n",
    "\n",
    "collatz(x)\n",
    "\n",
    "else:\n",
    "\n",
    "print x\n",
    "\n",
    "x = 3*x + 1\n",
    "\n",
    "collatz(x)\n",
    "\n",
    "\n",
    "\n",
    "if __name__ == \"__main__\":\n",
    "\n",
    "main()"
   ]
  },
  {
   "cell_type": "code",
   "execution_count": null,
   "id": "778f51e8",
   "metadata": {},
   "outputs": [],
   "source": []
  }
 ],
 "metadata": {
  "kernelspec": {
   "display_name": "Python 3 (ipykernel)",
   "language": "python",
   "name": "python3"
  },
  "language_info": {
   "codemirror_mode": {
    "name": "ipython",
    "version": 3
   },
   "file_extension": ".py",
   "mimetype": "text/x-python",
   "name": "python",
   "nbconvert_exporter": "python",
   "pygments_lexer": "ipython3",
   "version": "3.9.13"
  }
 },
 "nbformat": 4,
 "nbformat_minor": 5
}
