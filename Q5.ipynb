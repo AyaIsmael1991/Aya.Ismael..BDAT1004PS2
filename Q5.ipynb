{
 "cells": [
  {
   "cell_type": "code",
   "execution_count": 1,
   "id": "265460ba",
   "metadata": {},
   "outputs": [
    {
     "name": "stdout",
     "output_type": "stream",
     "text": [
      "011"
     ]
    }
   ],
   "source": [
    "def binary(num):\n",
    "    if num >= 1:\n",
    "        binary(num // 2)\n",
    "    print(num % 2, end = '')\n",
    " \n",
    "binary(3)"
   ]
  },
  {
   "cell_type": "code",
   "execution_count": null,
   "id": "1d50968b",
   "metadata": {},
   "outputs": [],
   "source": []
  }
 ],
 "metadata": {
  "kernelspec": {
   "display_name": "Python 3 (ipykernel)",
   "language": "python",
   "name": "python3"
  },
  "language_info": {
   "codemirror_mode": {
    "name": "ipython",
    "version": 3
   },
   "file_extension": ".py",
   "mimetype": "text/x-python",
   "name": "python",
   "nbconvert_exporter": "python",
   "pygments_lexer": "ipython3",
   "version": "3.9.13"
  }
 },
 "nbformat": 4,
 "nbformat_minor": 5
}
