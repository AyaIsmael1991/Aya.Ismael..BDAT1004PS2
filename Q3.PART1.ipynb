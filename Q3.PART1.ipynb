{
 "cells": [
  {
   "cell_type": "code",
   "execution_count": 4,
   "id": "97d95d40",
   "metadata": {},
   "outputs": [
    {
     "name": "stdout",
     "output_type": "stream",
     "text": [
      "['doll', 'firetruck', 'kitten']\n"
     ]
    }
   ],
   "source": [
    "class Marsupial:\n",
    "    # constructor definition\n",
    "    def __init__(self):\n",
    "        self.lst = []\n",
    "    # put_in_pouch method\n",
    "    def put_in_pouch(self, item):\n",
    "        self.lst.append(item)\n",
    "    # pouch_contents method\n",
    "    def pouch_contents(self):\n",
    "        print(self.lst)\n",
    "\n",
    "m = Marsupial()\n",
    "m.put_in_pouch('doll')\n",
    "m.put_in_pouch('firetruck')\n",
    "m.put_in_pouch('kitten')\n",
    "m.pouch_contents()"
   ]
  },
  {
   "cell_type": "code",
   "execution_count": 5,
   "id": "a554b7ad",
   "metadata": {
    "scrolled": true
   },
   "outputs": [
    {
     "name": "stdout",
     "output_type": "stream",
     "text": [
      "I am a Kanagroo located at coordinates (0,0)\n",
      "['doll', 'firetruck', 'kitten']\n",
      "I am a Kanagroo located at coordinates (3,0)\n"
     ]
    },
    {
     "ename": "NameError",
     "evalue": "name 'DukeGoose1827' is not defined",
     "output_type": "error",
     "traceback": [
      "\u001b[1;31m---------------------------------------------------------------------------\u001b[0m",
      "\u001b[1;31mNameError\u001b[0m                                 Traceback (most recent call last)",
      "\u001b[1;32m~\\AppData\\Local\\Temp\\ipykernel_10136\\2940076176.py\u001b[0m in \u001b[0;36m<module>\u001b[1;34m\u001b[0m\n\u001b[0;32m     76\u001b[0m \u001b[1;33m\u001b[0m\u001b[0m\n\u001b[0;32m     77\u001b[0m \u001b[1;33m\u001b[0m\u001b[0m\n\u001b[1;32m---> 78\u001b[1;33m \u001b[0mDukeGoose1827\u001b[0m\u001b[1;33m\u001b[0m\u001b[1;33m\u001b[0m\u001b[0m\n\u001b[0m",
      "\u001b[1;31mNameError\u001b[0m: name 'DukeGoose1827' is not defined"
     ]
    }
   ],
   "source": [
    "class Marsupial:\n",
    "\n",
    "    # the constructor\n",
    "\n",
    "    def __init__(self):\n",
    "\n",
    "        self.pouch=[]\n",
    "\n",
    "    \n",
    "\n",
    "    # the required method\n",
    "\n",
    "    def put_in_pouch(self, item):\n",
    "\n",
    "        # adds item to the pouch\n",
    "\n",
    "        self.pouch.append(item)\n",
    "\n",
    "    def pouch_contents(self):\n",
    "\n",
    "        return self.pouch\n",
    "\n",
    "# the required class\n",
    "\n",
    "class Kangaroo(Marsupial):\n",
    "\n",
    "    # the constructor\n",
    "\n",
    "    def __init__(self, x,y):\n",
    "\n",
    "        # parents constructor\n",
    "\n",
    "        Marsupial.__init__(self)\n",
    "\n",
    "        self.x=x\n",
    "\n",
    "        self.y=y\n",
    "\n",
    "    # the required method\n",
    "\n",
    "    def jump(self, dx, dy):\n",
    "\n",
    "        # incrmetns the respective instace variables\n",
    "\n",
    "        self.x+=dx\n",
    "\n",
    "        self.x+=dy\n",
    "\n",
    "    \n",
    "\n",
    "    def __str__(self):\n",
    "\n",
    "        return \"I am a Kanagroo located at coordinates (\"+str(self.x)+\",\"+str(self.y)+\")\"\n",
    "\n",
    "    \n",
    "\n",
    "k = Kangaroo(0,0)\n",
    "\n",
    "print(k)\n",
    "\n",
    "k.put_in_pouch('doll')\n",
    "\n",
    "k.put_in_pouch('firetruck')\n",
    "\n",
    "k.put_in_pouch('kitten')\n",
    "\n",
    "print(k.pouch_contents())\n",
    "\n",
    "k.jump(1,0)\n",
    "\n",
    "k.jump(1,0)\n",
    "\n",
    "k.jump(1,0)\n",
    "\n",
    "print(k)\n",
    "\n",
    "\n",
    "DukeGoose1827"
   ]
  },
  {
   "cell_type": "code",
   "execution_count": null,
   "id": "0f5b073b",
   "metadata": {},
   "outputs": [],
   "source": []
  }
 ],
 "metadata": {
  "kernelspec": {
   "display_name": "Python 3 (ipykernel)",
   "language": "python",
   "name": "python3"
  },
  "language_info": {
   "codemirror_mode": {
    "name": "ipython",
    "version": 3
   },
   "file_extension": ".py",
   "mimetype": "text/x-python",
   "name": "python",
   "nbconvert_exporter": "python",
   "pygments_lexer": "ipython3",
   "version": "3.9.13"
  }
 },
 "nbformat": 4,
 "nbformat_minor": 5
}
