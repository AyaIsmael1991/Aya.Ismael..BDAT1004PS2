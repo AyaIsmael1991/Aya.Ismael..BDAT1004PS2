{
 "cells": [
  {
   "cell_type": "code",
   "execution_count": 2,
   "id": "07ebda5d",
   "metadata": {},
   "outputs": [
    {
     "ename": "IndentationError",
     "evalue": "expected an indented block (71979604.py, line 3)",
     "output_type": "error",
     "traceback": [
      "\u001b[1;36m  File \u001b[1;32m\"C:\\Users\\basim\\AppData\\Local\\Temp\\ipykernel_13984\\71979604.py\"\u001b[1;36m, line \u001b[1;32m3\u001b[0m\n\u001b[1;33m    try:\u001b[0m\n\u001b[1;37m    ^\u001b[0m\n\u001b[1;31mIndentationError\u001b[0m\u001b[1;31m:\u001b[0m expected an indented block\n"
     ]
    }
   ],
   "source": [
    "def fileLength(filename):\n",
    "#reading data\n",
    "try:\n",
    "f=open(filename,'r')\n",
    "#reading all lines as a list of list\n",
    "data=f.readlines()\n",
    "#creating a single line from all lines\n",
    "line=\"\"\n",
    "for i in data:\n",
    "line+=i\n",
    "result=len(line)\n",
    "return result\n",
    "except FileNotFoundError:\n",
    "return (\"File {} not found.\".format(filename))\n",
    "\n",
    "print(fileLength('Aya.py'))\n",
    "print(fileLength('Aya123.py'))"
   ]
  },
  {
   "cell_type": "code",
   "execution_count": null,
   "id": "07e28529",
   "metadata": {},
   "outputs": [],
   "source": []
  }
 ],
 "metadata": {
  "kernelspec": {
   "display_name": "Python 3 (ipykernel)",
   "language": "python",
   "name": "python3"
  },
  "language_info": {
   "codemirror_mode": {
    "name": "ipython",
    "version": 3
   },
   "file_extension": ".py",
   "mimetype": "text/x-python",
   "name": "python",
   "nbconvert_exporter": "python",
   "pygments_lexer": "ipython3",
   "version": "3.9.13"
  }
 },
 "nbformat": 4,
 "nbformat_minor": 5
}
